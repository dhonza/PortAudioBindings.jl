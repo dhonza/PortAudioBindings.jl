{
 "cells": [
  {
   "cell_type": "code",
   "execution_count": 1,
   "metadata": {},
   "outputs": [],
   "source": [
    "using Clang\n",
    "using CEnum"
   ]
  },
  {
   "cell_type": "code",
   "execution_count": 2,
   "metadata": {},
   "outputs": [
    {
     "name": "stderr",
     "output_type": "stream",
     "text": [
      "┌ Info: wrapping header: /usr/local/Cellar/portaudio/19.6.0/include/portaudio.h ...\n",
      "└ @ Clang /Users/drchajan/.julia/packages/Clang/ypHaU/src/compat.jl:101\n",
      "┌ Warning: No Prototype for CLCursor (CLFunctionDecl) Pa_GetVersionInfo() - assuming no arguments\n",
      "└ @ Clang /Users/drchajan/.julia/packages/Clang/ypHaU/src/wrap_c.jl:13\n",
      "┌ Info: writing /Users/drchajan/devel/AUDIO/PortAudioBindings.jl/notebooks/libportaudio_api.jl\n",
      "└ @ Clang /Users/drchajan/.julia/packages/Clang/ypHaU/src/compat.jl:135\n"
     ]
    }
   ],
   "source": [
    "function build_portaudio_bindings()\n",
    "    LIB_INCLUDE =  \"/usr/local/Cellar/portaudio/19.6.0/include\"\n",
    "#     LIB_HEADERS = [joinpath(LIB_INCLUDE, header) for header in readdir(LIB_INCLUDE) if endswith(header, \".h\")]\n",
    "    LIB_HEADERS = [\"/usr/local/Cellar/portaudio/19.6.0/include/portaudio.h\"]\n",
    "    \n",
    "    wc = init(; headers = LIB_HEADERS,\n",
    "                output_file = joinpath(@__DIR__, \"libportaudio_api.jl\"),\n",
    "                common_file = joinpath(@__DIR__, \"libportaudio_common.jl\"),\n",
    "                clang_includes = vcat(LIB_INCLUDE, CLANG_INCLUDE),\n",
    "                clang_args = [\"-I\", joinpath(LIB_INCLUDE, \"..\")],\n",
    "                header_wrapped = (root, current)->root == current,\n",
    "                header_library = x->\"libportaudio\",\n",
    "                clang_diagnostics = true,\n",
    "                )\n",
    "    run(wc)\n",
    "end\n",
    "\n",
    "build_portaudio_bindings()\n",
    "\n",
    "# const libportaudio = \"libportaudio\"\n",
    "# include(\"ctypes.jl\")\n",
    "# include(\"libportaudio_manual.jl\")\n",
    "# include(\"libportaudio_common.jl\")\n",
    "# include(\"libportaudio_api.jl\")"
   ]
  }
 ],
 "metadata": {
  "kernelspec": {
   "display_name": "Julia 1.5.2",
   "language": "julia",
   "name": "julia-1.5"
  },
  "language_info": {
   "file_extension": ".jl",
   "mimetype": "application/julia",
   "name": "julia",
   "version": "1.5.2"
  }
 },
 "nbformat": 4,
 "nbformat_minor": 4
}
