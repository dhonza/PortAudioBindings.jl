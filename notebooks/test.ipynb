{
 "cells": [
  {
   "cell_type": "code",
   "execution_count": null,
   "metadata": {},
   "outputs": [],
   "source": [
    "using Revise\n",
    "\n",
    "using FileIO\n",
    "using Unitful: s\n",
    "using SampleArrays\n",
    "using PortAudioBindings"
   ]
  },
  {
   "cell_type": "markdown",
   "metadata": {},
   "source": [
    "PortAudio library must be in the search path use something similar (if needed): `export LD_LIBRARY_PATH=/usr/local/lib:$LD_LIBRARY_PATH`"
   ]
  },
  {
   "cell_type": "markdown",
   "metadata": {},
   "source": [
    "There are direct bindings to tge PortAudio functions (prefixed by `Pa_`):"
   ]
  },
  {
   "cell_type": "code",
   "execution_count": null,
   "metadata": {},
   "outputs": [],
   "source": [
    "Pa_Terminate()"
   ]
  },
  {
   "cell_type": "code",
   "execution_count": null,
   "metadata": {},
   "outputs": [],
   "source": [
    "function print_devices()\n",
    "    err = Pa_Initialize()\n",
    "    println(unsafe_string(unsafe_load(Pa_GetVersionInfo()).versionText))\n",
    "    numDevices = Pa_GetDeviceCount()\n",
    "    @show numDevices\n",
    "    for i in 0:numDevices-1\n",
    "        deviceInfo = unsafe_load(Pa_GetDeviceInfo(i))\n",
    "        deviceName = unsafe_string(deviceInfo.name)\n",
    "        println(\"device $i: $deviceName $(deviceInfo.maxInputChannels)/$(deviceInfo.maxOutputChannels)\")\n",
    "#         @show deviceInfo\n",
    "    end\n",
    "    @show Pa_GetDefaultInputDevice()\n",
    "    @show Pa_GetDefaultOutputDevice()\n",
    "    err = Pa_Terminate()\n",
    "end\n",
    "\n",
    "print_devices()"
   ]
  },
  {
   "cell_type": "markdown",
   "metadata": {},
   "source": [
    "And there are several high-level functions for getting information, playback and recording. **Most of these methods need better error checking to be implemented**"
   ]
  },
  {
   "cell_type": "code",
   "execution_count": null,
   "metadata": {},
   "outputs": [],
   "source": [
    "pa = PortAudio()"
   ]
  },
  {
   "cell_type": "code",
   "execution_count": null,
   "metadata": {},
   "outputs": [],
   "source": [
    "listdevices(pa)"
   ]
  },
  {
   "cell_type": "code",
   "execution_count": null,
   "metadata": {},
   "outputs": [],
   "source": [
    "device_id_default_in(pa)"
   ]
  },
  {
   "cell_type": "code",
   "execution_count": null,
   "metadata": {},
   "outputs": [],
   "source": [
    "device_id_default_out(pa)"
   ]
  },
  {
   "cell_type": "code",
   "execution_count": null,
   "metadata": {},
   "outputs": [],
   "source": [
    "device_id_by_name(pa, \"pulse-test\")"
   ]
  },
  {
   "cell_type": "code",
   "execution_count": null,
   "metadata": {},
   "outputs": [],
   "source": [
    "d, rate = load(\"../data/test_sweep.wav\")[1:2]\n",
    "d = SampleArray(Float32.(d), rate)"
   ]
  },
  {
   "cell_type": "code",
   "execution_count": null,
   "metadata": {},
   "outputs": [],
   "source": [
    "play(pa, d; bsize=512)"
   ]
  },
  {
   "cell_type": "code",
   "execution_count": null,
   "metadata": {},
   "outputs": [],
   "source": [
    "d2 = record(pa; nins=2)"
   ]
  },
  {
   "cell_type": "code",
   "execution_count": null,
   "metadata": {},
   "outputs": [],
   "source": [
    "play(pa, d2)"
   ]
  },
  {
   "cell_type": "code",
   "execution_count": null,
   "metadata": {},
   "outputs": [],
   "source": [
    "d3 = recordresponse(pa, d; nins=1, post=1.0s, bsize=512)"
   ]
  },
  {
   "cell_type": "code",
   "execution_count": null,
   "metadata": {},
   "outputs": [],
   "source": [
    "play(pa, d3)"
   ]
  },
  {
   "cell_type": "code",
   "execution_count": null,
   "metadata": {},
   "outputs": [],
   "source": [
    "d3.data"
   ]
  },
  {
   "cell_type": "code",
   "execution_count": null,
   "metadata": {},
   "outputs": [],
   "source": []
  }
 ],
 "metadata": {
  "kernelspec": {
   "display_name": "Julia 1.5.1",
   "language": "julia",
   "name": "julia-1.5"
  },
  "language_info": {
   "file_extension": ".jl",
   "mimetype": "application/julia",
   "name": "julia",
   "version": "1.5.1"
  }
 },
 "nbformat": 4,
 "nbformat_minor": 4
}
